{
  "nbformat": 4,
  "nbformat_minor": 0,
  "metadata": {
    "colab": {
      "name": "finalproject.ipynb",
      "provenance": []
    },
    "kernelspec": {
      "name": "python3",
      "display_name": "Python 3"
    },
    "language_info": {
      "name": "python"
    }
  },
  "cells": [
    {
      "cell_type": "markdown",
      "metadata": {
        "id": "kOVCU4nQZY26"
      },
      "source": [
        "# Introduction\n",
        "I have always wondered how well off some countries are doing and how they compare to contries that are struggling to make progress within themselves. I found myself looking at the annual world happiness index which categorizes every country with different types of caegories relating to happiness. I have taken the top 19 countries and the last 2 rated countries so we can discover how wide the disparity is between themselves."
      ]
    },
    {
      "cell_type": "code",
      "metadata": {
        "id": "RMPLZBTispwz"
      },
      "source": [
        "import pandas as pd\n",
        "import numpy as np\n",
        "import matplotlib as mpl\n",
        "import matplotlib.pyplot as plt\n",
        "import seaborn as sns\n",
        "\n"
      ],
      "execution_count": 1,
      "outputs": []
    },
    {
      "cell_type": "code",
      "metadata": {
        "id": "RmpG97HKUkki"
      },
      "source": [
        "df=pd.read_csv(\"df.csv\")\n",
        "soc=pd.read_csv(\"soc.csv\")\n",
        "gdp=pd.read_csv(\"gdp.csv\")\n",
        "free=pd.read_csv(\"free.csv\")"
      ],
      "execution_count": 2,
      "outputs": []
    },
    {
      "cell_type": "markdown",
      "metadata": {
        "id": "hyH2i_w2S8Sr"
      },
      "source": [
        "# Here we can see the numbers of the top 4 ranked countries based on the world \n",
        "#hapinness report, all of which are  Icelandic countries.\n",
        "\n",
        "\n",
        "\n"
      ]
    },
    {
      "cell_type": "code",
      "metadata": {
        "colab": {
          "base_uri": "https://localhost:8080/",
          "height": 205
        },
        "id": "RQzjhLCRWKHu",
        "outputId": "49574f27-8fdc-4d30-dd7d-4f5f9cd6a016"
      },
      "source": [
        "df.head()"
      ],
      "execution_count": 3,
      "outputs": [
        {
          "output_type": "execute_result",
          "data": {
            "text/html": [
              "<div>\n",
              "<style scoped>\n",
              "    .dataframe tbody tr th:only-of-type {\n",
              "        vertical-align: middle;\n",
              "    }\n",
              "\n",
              "    .dataframe tbody tr th {\n",
              "        vertical-align: top;\n",
              "    }\n",
              "\n",
              "    .dataframe thead th {\n",
              "        text-align: right;\n",
              "    }\n",
              "</style>\n",
              "<table border=\"1\" class=\"dataframe\">\n",
              "  <thead>\n",
              "    <tr style=\"text-align: right;\">\n",
              "      <th></th>\n",
              "      <th>Country name</th>\n",
              "      <th>Logged GDP per capita</th>\n",
              "      <th>Social support</th>\n",
              "      <th>Freedom to make life choices</th>\n",
              "    </tr>\n",
              "  </thead>\n",
              "  <tbody>\n",
              "    <tr>\n",
              "      <th>0</th>\n",
              "      <td>Finland</td>\n",
              "      <td>10.775</td>\n",
              "      <td>0.954</td>\n",
              "      <td>0.949</td>\n",
              "    </tr>\n",
              "    <tr>\n",
              "      <th>1</th>\n",
              "      <td>Denmark</td>\n",
              "      <td>10.933</td>\n",
              "      <td>0.954</td>\n",
              "      <td>0.946</td>\n",
              "    </tr>\n",
              "    <tr>\n",
              "      <th>2</th>\n",
              "      <td>Switzerland</td>\n",
              "      <td>11.117</td>\n",
              "      <td>0.942</td>\n",
              "      <td>0.919</td>\n",
              "    </tr>\n",
              "    <tr>\n",
              "      <th>3</th>\n",
              "      <td>Iceland</td>\n",
              "      <td>10.878</td>\n",
              "      <td>0.983</td>\n",
              "      <td>0.955</td>\n",
              "    </tr>\n",
              "    <tr>\n",
              "      <th>4</th>\n",
              "      <td>Netherlands</td>\n",
              "      <td>10.932</td>\n",
              "      <td>0.942</td>\n",
              "      <td>0.913</td>\n",
              "    </tr>\n",
              "  </tbody>\n",
              "</table>\n",
              "</div>"
            ],
            "text/plain": [
              "  Country name  ...  Freedom to make life choices\n",
              "0      Finland  ...                         0.949\n",
              "1      Denmark  ...                         0.946\n",
              "2  Switzerland  ...                         0.919\n",
              "3      Iceland  ...                         0.955\n",
              "4  Netherlands  ...                         0.913\n",
              "\n",
              "[5 rows x 4 columns]"
            ]
          },
          "metadata": {},
          "execution_count": 3
        }
      ]
    },
    {
      "cell_type": "markdown",
      "metadata": {
        "id": "rJ6iXXsxyRpP"
      },
      "source": [
        ""
      ]
    },
    {
      "cell_type": "markdown",
      "metadata": {
        "id": "1CYxFjigTdrF"
      },
      "source": [
        "\n",
        "# The 3 main categroies I used to determine stability and happiness within a country\n"
      ]
    },
    {
      "cell_type": "code",
      "metadata": {
        "colab": {
          "base_uri": "https://localhost:8080/",
          "height": 299
        },
        "id": "-uh1YgDjWfKy",
        "outputId": "e79c52a9-cbd3-4a16-f3d4-56190ddf52b7"
      },
      "source": [
        "df.describe()"
      ],
      "execution_count": 4,
      "outputs": [
        {
          "output_type": "execute_result",
          "data": {
            "text/html": [
              "<div>\n",
              "<style scoped>\n",
              "    .dataframe tbody tr th:only-of-type {\n",
              "        vertical-align: middle;\n",
              "    }\n",
              "\n",
              "    .dataframe tbody tr th {\n",
              "        vertical-align: top;\n",
              "    }\n",
              "\n",
              "    .dataframe thead th {\n",
              "        text-align: right;\n",
              "    }\n",
              "</style>\n",
              "<table border=\"1\" class=\"dataframe\">\n",
              "  <thead>\n",
              "    <tr style=\"text-align: right;\">\n",
              "      <th></th>\n",
              "      <th>Logged GDP per capita</th>\n",
              "      <th>Social support</th>\n",
              "      <th>Freedom to make life choices</th>\n",
              "    </tr>\n",
              "  </thead>\n",
              "  <tbody>\n",
              "    <tr>\n",
              "      <th>count</th>\n",
              "      <td>21.000000</td>\n",
              "      <td>21.000000</td>\n",
              "      <td>21.000000</td>\n",
              "    </tr>\n",
              "    <tr>\n",
              "      <th>mean</th>\n",
              "      <td>10.567476</td>\n",
              "      <td>0.905381</td>\n",
              "      <td>0.869571</td>\n",
              "    </tr>\n",
              "    <tr>\n",
              "      <th>std</th>\n",
              "      <td>0.973314</td>\n",
              "      <td>0.111033</td>\n",
              "      <td>0.129096</td>\n",
              "    </tr>\n",
              "    <tr>\n",
              "      <th>min</th>\n",
              "      <td>7.695000</td>\n",
              "      <td>0.463000</td>\n",
              "      <td>0.382000</td>\n",
              "    </tr>\n",
              "    <tr>\n",
              "      <th>25%</th>\n",
              "      <td>10.643000</td>\n",
              "      <td>0.920000</td>\n",
              "      <td>0.859000</td>\n",
              "    </tr>\n",
              "    <tr>\n",
              "      <th>50%</th>\n",
              "      <td>10.867000</td>\n",
              "      <td>0.939000</td>\n",
              "      <td>0.913000</td>\n",
              "    </tr>\n",
              "    <tr>\n",
              "      <th>75%</th>\n",
              "      <td>10.933000</td>\n",
              "      <td>0.947000</td>\n",
              "      <td>0.934000</td>\n",
              "    </tr>\n",
              "    <tr>\n",
              "      <th>max</th>\n",
              "      <td>11.647000</td>\n",
              "      <td>0.983000</td>\n",
              "      <td>0.960000</td>\n",
              "    </tr>\n",
              "  </tbody>\n",
              "</table>\n",
              "</div>"
            ],
            "text/plain": [
              "       Logged GDP per capita  Social support  Freedom to make life choices\n",
              "count              21.000000       21.000000                     21.000000\n",
              "mean               10.567476        0.905381                      0.869571\n",
              "std                 0.973314        0.111033                      0.129096\n",
              "min                 7.695000        0.463000                      0.382000\n",
              "25%                10.643000        0.920000                      0.859000\n",
              "50%                10.867000        0.939000                      0.913000\n",
              "75%                10.933000        0.947000                      0.934000\n",
              "max                11.647000        0.983000                      0.960000"
            ]
          },
          "metadata": {},
          "execution_count": 4
        }
      ]
    },
    {
      "cell_type": "code",
      "metadata": {
        "colab": {
          "base_uri": "https://localhost:8080/"
        },
        "id": "e-g-Cos2XIcb",
        "outputId": "8313da58-4f7f-46b6-fc27-de1b2b20f014"
      },
      "source": [
        "filename= \"df.csv\"\n",
        "score_df=pd.read_csv(filename)\n",
        "score_df.head()\n",
        "score_df.dtypes\n",
        "\n",
        "filename= \"free.csv\"\n",
        "score_free=pd.read_csv(filename)\n",
        "score_free.head()\n",
        "score_free.dtypes\n",
        "\n",
        "filename= \"soc.csv\"\n",
        "score_soc=pd.read_csv(filename)\n",
        "score_soc.head()\n",
        "score_soc.dtypes\n",
        "\n",
        "filename= \"gdp.csv\"\n",
        "score_gdp=pd.read_csv(filename)\n",
        "score_gdp.head()\n",
        "score_gdp.dtypes\n",
        "\n",
        "\n"
      ],
      "execution_count": 5,
      "outputs": [
        {
          "output_type": "execute_result",
          "data": {
            "text/plain": [
              "Country name              object\n",
              "Logged GDP per capita    float64\n",
              "dtype: object"
            ]
          },
          "metadata": {},
          "execution_count": 5
        }
      ]
    },
    {
      "cell_type": "markdown",
      "metadata": {
        "id": "t-xdtBabT8MR"
      },
      "source": [
        "# Going into my first means of determining the happiest country I would first like to look at the social support these countries give to its citizens. Social support can be defined by social services, schools, and essentially money invested back within it citizens."
      ]
    },
    {
      "cell_type": "code",
      "metadata": {
        "colab": {
          "base_uri": "https://localhost:8080/",
          "height": 366
        },
        "id": "pqnmOKfHZsHk",
        "outputId": "4322ddf1-ec1e-4e55-e69b-5dc363a442ea"
      },
      "source": [
        "score_soc.groupby(\"Country name\").mean().plot(kind=\"bar\", color= \"r\") \n",
        "\n",
        "\n"
      ],
      "execution_count": 6,
      "outputs": [
        {
          "output_type": "execute_result",
          "data": {
            "text/plain": [
              "<matplotlib.axes._subplots.AxesSubplot at 0x7fa8edbc5b50>"
            ]
          },
          "metadata": {},
          "execution_count": 6
        },
        {
          "output_type": "display_data",
          "data": {
            "image/png": "[encoded data removed]",
            "text/plain": [
              "<Figure size 432x288 with 1 Axes>"
            ]
          },
          "metadata": {
            "needs_background": "light"
          }
        }
      ]
    },
    {
      "cell_type": "markdown",
      "metadata": {
        "id": "AE62243qUfSZ"
      },
      "source": [
        "# Next up we have an iteresting category that greatly effects all other factors in happiness which is the GDP of the countries. GDP is a good indication of the countries financials and if they have the means to operate efficently. Therefore, directly having the impact on social support or even freedom of its own citizens to be able to live how they want."
      ]
    },
    {
      "cell_type": "code",
      "metadata": {
        "colab": {
          "base_uri": "https://localhost:8080/",
          "height": 366
        },
        "id": "bmzX380Qa9aE",
        "outputId": "3484bdb9-a8f0-482f-c6ea-1cd83564b805"
      },
      "source": [
        "score_gdp.groupby(\"Country name\").mean().plot(kind=\"bar\")"
      ],
      "execution_count": 7,
      "outputs": [
        {
          "output_type": "execute_result",
          "data": {
            "text/plain": [
              "<matplotlib.axes._subplots.AxesSubplot at 0x7fa8edb2f350>"
            ]
          },
          "metadata": {},
          "execution_count": 7
        },
        {
          "output_type": "display_data",
          "data": {
            "image/png": "[encoded data removed]",
            "text/plain": [
              "<Figure size 432x288 with 1 Axes>"
            ]
          },
          "metadata": {
            "needs_background": "light"
          }
        }
      ]
    },
    {
      "cell_type": "markdown",
      "metadata": {
        "id": "6wnz78NHVnlr"
      },
      "source": [
        "# The last kind of bar graph I would like to show is the Freedom to make life choices. As humans we would like to live our lives the way we want to and for the most part not have to answer to anyone as long as we arent harming someone else in the process. The more freedom people have to live their life the happier they will be."
      ]
    },
    {
      "cell_type": "code",
      "metadata": {
        "colab": {
          "base_uri": "https://localhost:8080/",
          "height": 369
        },
        "id": "eybMtUBTVVEB",
        "outputId": "bae05ff9-790a-4e58-f713-b0845c9fea88"
      },
      "source": [
        "score_free.groupby(\"Country name\").mean().plot(kind=\"bar\", color = \"g\")"
      ],
      "execution_count": 8,
      "outputs": [
        {
          "output_type": "execute_result",
          "data": {
            "text/plain": [
              "<matplotlib.axes._subplots.AxesSubplot at 0x7fa8ed52b310>"
            ]
          },
          "metadata": {},
          "execution_count": 8
        },
        {
          "output_type": "display_data",
          "data": {
            "image/png": "[encoded data removed]",
            "text/plain": [
              "<Figure size 432x288 with 1 Axes>"
            ]
          },
          "metadata": {
            "needs_background": "light"
          }
        }
      ]
    },
    {
      "cell_type": "markdown",
      "metadata": {
        "id": "Tz8WXYv7WLPN"
      },
      "source": [
        "# Taking into account of the first 3 bar graphs we have seen its time to look at how thse countries match up against each other and how wide the differences are in some. Iceland takes the top spot while Afghanistan is at the lower end of this plot."
      ]
    },
    {
      "cell_type": "code",
      "metadata": {
        "colab": {
          "base_uri": "https://localhost:8080/",
          "height": 282
        },
        "id": "jgEfxhFPcXME",
        "outputId": "b8f24315-393a-4ca5-88dd-ca3470738663"
      },
      "source": [
        "score_free.groupby(\"Country name\").mean().plot(kind=\"box\", color= \"g\")"
      ],
      "execution_count": 9,
      "outputs": [
        {
          "output_type": "execute_result",
          "data": {
            "text/plain": [
              "<matplotlib.axes._subplots.AxesSubplot at 0x7fa8ed5064d0>"
            ]
          },
          "metadata": {},
          "execution_count": 9
        },
        {
          "output_type": "display_data",
          "data": {
            "image/png": "[encoded data removed]",
            "text/plain": [
              "<Figure size 432x288 with 1 Axes>"
            ]
          },
          "metadata": {
            "needs_background": "light"
          }
        }
      ]
    },
    {
      "cell_type": "markdown",
      "metadata": {
        "id": "KJlh2dS2Zz53"
      },
      "source": [
        "# Finding the necessary points for social support is crucial when dealing with these top rated countries and in comparison with countries that give minimal social support it shows that there is a wide gap within the top rated and the lowest rated."
      ]
    },
    {
      "cell_type": "code",
      "metadata": {
        "colab": {
          "base_uri": "https://localhost:8080/",
          "height": 283
        },
        "id": "6_D1RzAccoio",
        "outputId": "2d80d8df-8165-4b4a-8ab7-86bc239db9c8"
      },
      "source": [
        "score_soc.groupby(\"Country name\").mean().plot(kind=\"box\")"
      ],
      "execution_count": 10,
      "outputs": [
        {
          "output_type": "execute_result",
          "data": {
            "text/plain": [
              "<matplotlib.axes._subplots.AxesSubplot at 0x7fa8ed461990>"
            ]
          },
          "metadata": {},
          "execution_count": 10
        },
        {
          "output_type": "display_data",
          "data": {
            "image/png": "[encoded data removed]",
            "text/plain": [
              "<Figure size 432x288 with 1 Axes>"
            ]
          },
          "metadata": {
            "needs_background": "light"
          }
        }
      ]
    },
    {
      "cell_type": "markdown",
      "metadata": {
        "id": "e4yzC1gxaVV9"
      },
      "source": [
        "# Given this last plot I want to show the wide difference between the top rated countries compared to the last two. "
      ]
    },
    {
      "cell_type": "markdown",
      "metadata": {
        "id": "xX-wJyc1ZXk_"
      },
      "source": [
        ""
      ]
    },
    {
      "cell_type": "code",
      "metadata": {
        "colab": {
          "base_uri": "https://localhost:8080/",
          "height": 282
        },
        "id": "unZmIxm-iJIH",
        "outputId": "99cd98a1-f430-4338-c227-5b443cb97f26"
      },
      "source": [
        "score_gdp.groupby(\"Country name\").mean().plot(kind=\"box\", color=\"r\")"
      ],
      "execution_count": 11,
      "outputs": [
        {
          "output_type": "execute_result",
          "data": {
            "text/plain": [
              "<matplotlib.axes._subplots.AxesSubplot at 0x7fa8ed3dd850>"
            ]
          },
          "metadata": {},
          "execution_count": 11
        },
        {
          "output_type": "display_data",
          "data": {
            "image/png": "[encoded data removed]",
            "text/plain": [
              "<Figure size 432x288 with 1 Axes>"
            ]
          },
          "metadata": {
            "needs_background": "light"
          }
        }
      ]
    }
  ]
}